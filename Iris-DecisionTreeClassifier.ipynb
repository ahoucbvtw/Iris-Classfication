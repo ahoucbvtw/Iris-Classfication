{
  "nbformat": 4,
  "nbformat_minor": 0,
  "metadata": {
    "colab": {
      "name": "Classfication.ipynb",
      "private_outputs": true,
      "provenance": [],
      "collapsed_sections": [],
      "authorship_tag": "ABX9TyN9dJawAHI7AySMwSmJ/Ixc",
      "include_colab_link": true
    },
    "kernelspec": {
      "name": "python3",
      "display_name": "Python 3"
    },
    "accelerator": "GPU"
  },
  "cells": [
    {
      "cell_type": "markdown",
      "metadata": {
        "id": "view-in-github",
        "colab_type": "text"
      },
      "source": [
        "<a href=\"https://colab.research.google.com/github/ahoucbvtw/Iris-DecisionTreeClassifier/blob/main/Iris-DecisionTreeClassifier.ipynb\" target=\"_parent\"><img src=\"https://colab.research.google.com/assets/colab-badge.svg\" alt=\"Open In Colab\"/></a>"
      ]
    },
    {
      "cell_type": "code",
      "metadata": {
        "id": "SpngRleTkSr8"
      },
      "source": [
        "from sklearn.datasets import load_iris\n",
        "import pandas as pd\n",
        "iris = load_iris()\n",
        "\n",
        "data = pd.DataFrame(iris[\"data\"], columns = iris[\"feature_names\"])\n",
        "data[\"answer\"] = iris[\"target\"]\n",
        "data#這是類似print(data)的意思"
      ],
      "execution_count": null,
      "outputs": []
    },
    {
      "cell_type": "code",
      "metadata": {
        "id": "uykwnsA3s8st"
      },
      "source": [
        "import matplotlib.pyplot as plt\n",
        "import seaborn as sns\n",
        "#特殊語法,加了這個可以不用在每個圖片最後+plt.show,但是python的py檔本身有沒有支援,目前Jupyter和Colab有支援\n",
        "%matplotlib inline \n",
        "plt.figure(figsize = (14,10))#更改畫圖的大小(寬*高)\n",
        "sns.heatmap(data.astype(\"float\").corr(), cmap = \"YlGn\", annot= True)#camp更改顏色,annot於熱度圖上標示數值\n",
        "data.corr()#相關係數矩陣(pandas 內建涵式)"
      ],
      "execution_count": null,
      "outputs": []
    },
    {
      "cell_type": "code",
      "metadata": {
        "id": "UDoEWOU1RyO1"
      },
      "source": [
        "x = data.drop([\"answer\"], axis = 1)#去掉行axis = 1,去掉列axis = 0\n",
        "y = data[\"answer\"]"
      ],
      "execution_count": null,
      "outputs": []
    },
    {
      "cell_type": "code",
      "metadata": {
        "id": "PedMImk_Qy4n"
      },
      "source": [
        "from sklearn.model_selection import train_test_split\n",
        "#將資料隨機拆分成多少等份\n",
        "#train_test_split([1, 2, 3, 4],[5, 6, 7, 8], test_size = 0.25)\n",
        "#拆成9份訓練/1份驗證測試(random_state = 0 可以把每次切分都相同資料，但選擇還是隨機選)\n",
        "#訓練和測試盡量9/1或8/2分，讓訓練資料要多一點\n",
        "#[x_train, x_test, y_train, y_test]\n",
        "x_train, x_test, y_train, y_test = train_test_split(x, y, test_size = 0.1, random_state = 2)"
      ],
      "execution_count": null,
      "outputs": []
    },
    {
      "cell_type": "code",
      "metadata": {
        "id": "mFmuRyULVe8M"
      },
      "source": [
        "from sklearn.tree import DecisionTreeClassifier\n",
        "#準備演算法(設定max_depth = 2層來防止過度訓練導致驗證不准，依照各個資料來設定)\n",
        "clf = DecisionTreeClassifier(max_depth = 2)\n",
        "#把資料帶入獲得完整模型\n",
        "clf.fit(x_train, y_train)"
      ],
      "execution_count": null,
      "outputs": []
    },
    {
      "cell_type": "code",
      "metadata": {
        "id": "UsX8yBkRWfX7"
      },
      "source": [
        "import graphviz\n",
        "from sklearn.tree import export_graphviz\n",
        "#製作一決策樹=>可以使信心程度提高說這是屬於哪個分類\n",
        "#Gini係數 = 猜錯的機率，所以最後分類會將猜錯機率變小\n",
        "#ΣPi(1-Pi) ≒ 0 => 猜錯機率\n",
        "a = export_graphviz(clf, \n",
        "                feature_names = x.columns, \n",
        "                class_names = iris[\"target_names\"], \n",
        "                filled = True,\n",
        "                special_characters = True)\n",
        "graphviz.Source(a)"
      ],
      "execution_count": null,
      "outputs": []
    },
    {
      "cell_type": "code",
      "metadata": {
        "id": "cisxbtW0g9HG"
      },
      "source": [
        "#拿測試資料驗證預測\n",
        "from sklearn.metrics import accuracy_score\n",
        "\n",
        "pre = clf.predict(x_test)\n",
        "print(\"真正結果\", list(y_test))\n",
        "print(\"預測結果\", list(pre))\n",
        "accuracy_score(y_test, pre)"
      ],
      "execution_count": null,
      "outputs": []
    },
    {
      "cell_type": "code",
      "metadata": {
        "id": "-_NxjeuNYzhp"
      },
      "source": [
        "from sklearn.metrics import confusion_matrix\n",
        "\n",
        "pd.DataFrame(confusion_matrix(y_test,pre))"
      ],
      "execution_count": null,
      "outputs": []
    }
  ]
}